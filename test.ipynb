{
 "cells": [
  {
   "cell_type": "code",
   "execution_count": 9,
   "metadata": {},
   "outputs": [
    {
     "name": "stdout",
     "output_type": "stream",
     "text": [
      "True\n",
      "device[0]: NVIDIA GeForce RTX 4070 Ti\n"
     ]
    }
   ],
   "source": [
    "import torch\n",
    "\n",
    "print(torch.cuda.is_available())\n",
    "\n",
    "for i in range(0, torch.cuda.device_count()):\n",
    "    print(f'device[{i}]: {torch.cuda.get_device_name(i)}')"
   ]
  },
  {
   "cell_type": "code",
   "execution_count": 13,
   "metadata": {},
   "outputs": [
    {
     "name": "stdout",
     "output_type": "stream",
     "text": [
      "['activitynet-100', 'activitynet-200', 'bdd100k', 'caltech101', 'caltech256', 'cifar10', 'cifar100', 'cityscapes', 'coco-2014', 'coco-2017', 'fashion-mnist', 'fiw', 'hmdb51', 'imagenet-2012', 'imagenet-sample', 'kinetics-400', 'kinetics-600', 'kinetics-700', 'kinetics-700-2020', 'kitti', 'kitti-multiview', 'lfw', 'mnist', 'open-images-v6', 'open-images-v7', 'quickstart', 'quickstart-geo', 'quickstart-groups', 'quickstart-video', 'sama-coco', 'ucf101', 'voc-2007', 'voc-2012']\n",
      "Downloading split 'validation' to '/home/jovyan/fiftyone/sama-coco/validation' if necessary\n",
      "Downloading annotations to '/home/jovyan/fiftyone/sama-coco/tmp-download/sama-coco-val.zip'\n",
      " 100% |█████|   43.8Mb/43.8Mb [1.1s elapsed, 0s remaining, 38.9Mb/s]        \n",
      "Extracting annotations to '/home/jovyan/fiftyone/sama-coco/raw/sama_coco_validation.json'\n",
      "Downloading images to '/home/jovyan/fiftyone/sama-coco/tmp-download/val2017.zip'\n",
      " 100% |██████|    6.1Gb/6.1Gb [59.3s elapsed, 0s remaining, 120.3Mb/s]      \n",
      "Extracting images to '/home/jovyan/fiftyone/sama-coco/validation/data'\n",
      "Writing annotations to '/home/jovyan/fiftyone/sama-coco/validation/labels.json'\n",
      "Dataset info written to '/home/jovyan/fiftyone/sama-coco/info.json'\n",
      "Loading 'sama-coco' split 'validation'\n",
      " 100% |███████████████| 5000/5000 [27.3s elapsed, 0s remaining, 214.1 samples/s]      \n",
      "Dataset 'sama-coco-validation' created\n"
     ]
    }
   ],
   "source": [
    "import fiftyone as fo\n",
    "import fiftyone.zoo as foz\n",
    "\n",
    "print(foz.list_zoo_datasets())\n",
    "\n",
    "dataset = foz.load_zoo_dataset('sama-coco', split='validation')"
   ]
  },
  {
   "cell_type": "code",
   "execution_count": 16,
   "metadata": {},
   "outputs": [],
   "source": [
    "dataset.name = \"sama-coco-valid-makrela\"\n",
    "dataset.persistent = True"
   ]
  },
  {
   "cell_type": "code",
   "execution_count": 52,
   "metadata": {},
   "outputs": [
    {
     "name": "stdout",
     "output_type": "stream",
     "text": [
      "Session launched. Run `session.show()` to open the App in a cell output.\n",
      "Head to http://localhost:5151/\n"
     ]
    }
   ],
   "source": [
    "config = fo.AppConfig()\n",
    "config.color_by = 'value'\n",
    "\n",
    "session = fo.launch_app(dataset, auto=False, config=config)\n",
    "\n",
    "print('Head to http://localhost:5151/')"
   ]
  },
  {
   "cell_type": "code",
   "execution_count": 42,
   "metadata": {},
   "outputs": [
    {
     "name": "stdout",
     "output_type": "stream",
     "text": [
      "2679.83s - pydevd: Sending message related to process being replaced timed-out after 5 seconds\n",
      "Defaulting to user installation because normal site-packages is not writeable\n",
      "Requirement already satisfied: distinctipy in /home/jovyan/.local/lib/python3.11/site-packages (1.2.3)\n",
      "Requirement already satisfied: numpy in /home/jovyan/.local/lib/python3.11/site-packages (from distinctipy) (1.26.2)\n",
      "Note: you may need to restart the kernel to use updated packages.\n"
     ]
    }
   ],
   "source": [
    "%pip install distinctipy"
   ]
  },
  {
   "cell_type": "code",
   "execution_count": 44,
   "metadata": {},
   "outputs": [],
   "source": [
    "import distinctipy\n",
    "\n",
    "def clamp(x):\n",
    "  x = int(x * 255)\n",
    "  return max(0, min(x, 255))\n",
    "\n",
    "valueColors: list[dict[str,str]] = []\n",
    "\n",
    "colors =  distinctipy.get_colors(len(dataset.default_classes))\n",
    "\n",
    "for index, item in enumerate(dataset.default_classes):\n",
    "    selected_color = colors[index]\n",
    "    color = \"#{0:02x}{1:02x}{2:02x}\".format(clamp(selected_color[0]), clamp(selected_color[1]), clamp(selected_color[2]))\n",
    "    itemColors = { \"value\": str(item), \"color\": color }\n",
    "\n",
    "    valueColors.append(itemColors)\n",
    "\n",
    "color_scheme = fo.ColorScheme(\n",
    "    fields=[\n",
    "        {\n",
    "            \"path\": \"ground_truth\",\n",
    "            \"colorByAttribute\": \"label\",\n",
    "            \"valueColors\": valueColors\n",
    "        }\n",
    "    ]\n",
    ")\n",
    "session.config.color_by = 'label'\n",
    "\n",
    "session.color_scheme = color_scheme"
   ]
  }
 ],
 "metadata": {
  "kernelspec": {
   "display_name": "Python 3",
   "language": "python",
   "name": "python3"
  },
  "language_info": {
   "codemirror_mode": {
    "name": "ipython",
    "version": 3
   },
   "file_extension": ".py",
   "mimetype": "text/x-python",
   "name": "python",
   "nbconvert_exporter": "python",
   "pygments_lexer": "ipython3",
   "version": "3.11.4"
  }
 },
 "nbformat": 4,
 "nbformat_minor": 2
}
